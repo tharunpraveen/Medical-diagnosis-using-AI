{
 "cells": [
  {
   "cell_type": "code",
   "execution_count": 3,
   "id": "92353887-89b7-4418-b678-52ccb4c41847",
   "metadata": {},
   "outputs": [
    {
     "name": "stdout",
     "output_type": "stream",
     "text": [
      "Accuracy on Training data: 0.8553719008264463\n",
      "Accuracy on Test data: 0.819672131147541\n",
      "The Person has Heart Disease\n"
     ]
    }
   ],
   "source": [
    "import pandas as pd\n",
    "from sklearn.model_selection import train_test_split, GridSearchCV\n",
    "from sklearn.linear_model import LogisticRegression\n",
    "from sklearn.metrics import accuracy_score\n",
    "from sklearn.preprocessing import RobustScaler # or StandardScaler, if preferred\n",
    "import pickle\n",
    "import numpy as np\n",
    "\n",
    "# Data Collection and Processing\n",
    "heart_data = pd.read_csv('Datasets/heart_disease_data.csv')\n",
    "\n",
    "\n",
    "# heart_data.info()\n",
    "# heart_data.describe()\n",
    "\n",
    "# Feature Engineering (if needed, add new features here)\n",
    "# ...\n",
    "\n",
    "# Splitting Features and Target\n",
    "X = heart_data.drop(columns='target', axis=1)\n",
    "Y = heart_data['target']  \n",
    "\n",
    "# Data Scaling using RobustScaler (or StandardScaler if preferred)\n",
    "scaler = RobustScaler()  \n",
    "X = scaler.fit_transform(X)\n",
    "\n",
    "# Splitting Data into Training and Testing Sets\n",
    "X_train, X_test, Y_train, Y_test = train_test_split(X, Y, test_size=0.2, stratify=Y, random_state=2)\n",
    "\n",
    "# Model Training (Logistic Regression)\n",
    "model = LogisticRegression()\n",
    "\n",
    "# Hyperparameter Tuning using GridSearchCV\n",
    "param_grid = {\n",
    "    'C': [0.001, 0.01, 0.1, 1, 10, 100],  \n",
    "    'penalty': ['l1', 'l2'],  \n",
    "    'solver': ['liblinear', 'saga'] \n",
    "}\n",
    "grid_search = GridSearchCV(model, param_grid, cv=5, scoring='accuracy')  \n",
    "grid_search.fit(X_train, Y_train)\n",
    "best_model = grid_search.best_estimator_\n",
    "\n",
    "# Model Evaluation\n",
    "Y_train_pred = best_model.predict(X_train)\n",
    "training_accuracy = accuracy_score(Y_train_pred, Y_train)\n",
    "print('Accuracy on Training data:', training_accuracy)\n",
    "\n",
    "Y_test_pred = best_model.predict(X_test)\n",
    "test_accuracy = accuracy_score(Y_test_pred, Y_test)\n",
    "print('Accuracy on Test data:', test_accuracy)\n",
    "\n",
    "# Building a Predictive System\n",
    "def predict_heart_disease(input_data):\n",
    "    \"\"\"Predicts heart disease based on input data.\"\"\"\n",
    "    input_data_as_numpy_array = np.asarray(input_data)\n",
    "    input_data_reshaped = input_data_as_numpy_array.reshape(1, -1)\n",
    "    prediction = best_model.predict(input_data_reshaped) # Using best_model\n",
    "    if prediction[0] == 0:\n",
    "        return 'The Person does not have a Heart Disease'\n",
    "    else:\n",
    "        return 'The Person has Heart Disease'\n",
    "\n",
    "\n",
    "input_data = (57, 0, 0, 120, 354, 0, 1, 163, 1, 0.6, 2, 0, 2)\n",
    "result = predict_heart_disease(input_data)\n",
    "print(result)\n",
    "\n",
    "# Saving the Trained Model\n",
    "filename = 'heart_disease_model.sav'\n",
    "pickle.dump(best_model, open(filename, 'wb')) # Saving best_model"
   ]
  }
 ],
 "metadata": {
  "kernelspec": {
   "display_name": "Python 3 (ipykernel)",
   "language": "python",
   "name": "python3"
  },
  "language_info": {
   "codemirror_mode": {
    "name": "ipython",
    "version": 3
   },
   "file_extension": ".py",
   "mimetype": "text/x-python",
   "name": "python",
   "nbconvert_exporter": "python",
   "pygments_lexer": "ipython3",
   "version": "3.12.2"
  }
 },
 "nbformat": 4,
 "nbformat_minor": 5
}
